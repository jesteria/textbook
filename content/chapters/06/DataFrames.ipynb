{
 "cells": [
  {
   "cell_type": "code",
   "execution_count": 1,
   "metadata": {
    "tags": [
     "removecell"
    ]
   },
   "outputs": [],
   "source": [
    "import pathlib\n",
    "\n",
    "\n",
    "PATH_DATA = pathlib.Path.cwd().parent.parent.parent / 'data'"
   ]
  },
  {
   "cell_type": "markdown",
   "metadata": {},
   "source": [
    "# DataFrames\n",
    "\n",
    "DataFrames are a fundamental object type for representing data sets. A DataFrame can be viewed in two ways:\n",
    "\n",
    "* a sequence of named columns that each describe a single aspect of all entries in a data set, or\n",
    "* a sequence of rows that each contain all information about a single entry in a data set.\n",
    "\n",
    "In order to use DataFrames, import the module called `pandas`, from a Python library commonly used in data science.\n",
    "\n",
    "Though you may simply `import pandas`, it is common to rename the module for quick reference within our code."
   ]
  },
  {
   "cell_type": "code",
   "execution_count": 2,
   "metadata": {},
   "outputs": [],
   "source": [
    "import pandas as pd"
   ]
  },
  {
   "cell_type": "markdown",
   "metadata": {},
   "source": [
    "The pandas `DataFrame` may be constructed in a number of ways, depending on its data source.\n",
    "\n",
    "Underlying each column of a `DataFrame` is a pandas `Series`.\n",
    "\n",
    "A straight-forward manner of constructing a `DataFrame` is to specify its data as a Python `dict`, whose keys are column labels and whose values are `list`s or NumPy `array`s."
   ]
  },
  {
   "cell_type": "code",
   "execution_count": 3,
   "metadata": {},
   "outputs": [
    {
     "data": {
      "text/html": [
       "<div>\n",
       "<style scoped>\n",
       "    .dataframe tbody tr th:only-of-type {\n",
       "        vertical-align: middle;\n",
       "    }\n",
       "\n",
       "    .dataframe tbody tr th {\n",
       "        vertical-align: top;\n",
       "    }\n",
       "\n",
       "    .dataframe thead th {\n",
       "        text-align: right;\n",
       "    }\n",
       "</style>\n",
       "<table border=\"1\" class=\"dataframe\">\n",
       "  <thead>\n",
       "    <tr style=\"text-align: right;\">\n",
       "      <th></th>\n",
       "      <th>Number of petals</th>\n",
       "    </tr>\n",
       "  </thead>\n",
       "  <tbody>\n",
       "    <tr>\n",
       "      <th>0</th>\n",
       "      <td>8</td>\n",
       "    </tr>\n",
       "    <tr>\n",
       "      <th>1</th>\n",
       "      <td>34</td>\n",
       "    </tr>\n",
       "    <tr>\n",
       "      <th>2</th>\n",
       "      <td>5</td>\n",
       "    </tr>\n",
       "  </tbody>\n",
       "</table>\n",
       "</div>"
      ],
      "text/plain": [
       "   Number of petals\n",
       "0                 8\n",
       "1                34\n",
       "2                 5"
      ]
     },
     "execution_count": 3,
     "metadata": {},
     "output_type": "execute_result"
    }
   ],
   "source": [
    "pd.DataFrame(\n",
    "    {\n",
    "        'Number of petals': [8, 34, 5],\n",
    "    },\n",
    ")"
   ]
  },
  {
   "cell_type": "markdown",
   "metadata": {},
   "source": [
    "To specify two (or more) columns, provide the label and values for each column. All columns must have the same length, or an error will occur."
   ]
  },
  {
   "cell_type": "code",
   "execution_count": 4,
   "metadata": {},
   "outputs": [
    {
     "data": {
      "text/html": [
       "<div>\n",
       "<style scoped>\n",
       "    .dataframe tbody tr th:only-of-type {\n",
       "        vertical-align: middle;\n",
       "    }\n",
       "\n",
       "    .dataframe tbody tr th {\n",
       "        vertical-align: top;\n",
       "    }\n",
       "\n",
       "    .dataframe thead th {\n",
       "        text-align: right;\n",
       "    }\n",
       "</style>\n",
       "<table border=\"1\" class=\"dataframe\">\n",
       "  <thead>\n",
       "    <tr style=\"text-align: right;\">\n",
       "      <th></th>\n",
       "      <th>Name</th>\n",
       "      <th>Number of petals</th>\n",
       "    </tr>\n",
       "  </thead>\n",
       "  <tbody>\n",
       "    <tr>\n",
       "      <th>0</th>\n",
       "      <td>lotus</td>\n",
       "      <td>8</td>\n",
       "    </tr>\n",
       "    <tr>\n",
       "      <th>1</th>\n",
       "      <td>sunflower</td>\n",
       "      <td>34</td>\n",
       "    </tr>\n",
       "    <tr>\n",
       "      <th>2</th>\n",
       "      <td>rose</td>\n",
       "      <td>5</td>\n",
       "    </tr>\n",
       "  </tbody>\n",
       "</table>\n",
       "</div>"
      ],
      "text/plain": [
       "        Name  Number of petals\n",
       "0      lotus                 8\n",
       "1  sunflower                34\n",
       "2       rose                 5"
      ]
     },
     "execution_count": 4,
     "metadata": {},
     "output_type": "execute_result"
    }
   ],
   "source": [
    "pd.DataFrame(\n",
    "    {\n",
    "        'Name': ['lotus', 'sunflower', 'rose'],\n",
    "        'Number of petals': [8, 34, 5],\n",
    "    },\n",
    ")"
   ]
  },
  {
   "cell_type": "markdown",
   "metadata": {},
   "source": [
    "We can give this DataFrame a name, and then extend it with another column, using DataFrame method, `assign`."
   ]
  },
  {
   "cell_type": "code",
   "execution_count": 5,
   "metadata": {},
   "outputs": [
    {
     "data": {
      "text/html": [
       "<div>\n",
       "<style scoped>\n",
       "    .dataframe tbody tr th:only-of-type {\n",
       "        vertical-align: middle;\n",
       "    }\n",
       "\n",
       "    .dataframe tbody tr th {\n",
       "        vertical-align: top;\n",
       "    }\n",
       "\n",
       "    .dataframe thead th {\n",
       "        text-align: right;\n",
       "    }\n",
       "</style>\n",
       "<table border=\"1\" class=\"dataframe\">\n",
       "  <thead>\n",
       "    <tr style=\"text-align: right;\">\n",
       "      <th></th>\n",
       "      <th>Name</th>\n",
       "      <th>Number of petals</th>\n",
       "      <th>Color</th>\n",
       "    </tr>\n",
       "  </thead>\n",
       "  <tbody>\n",
       "    <tr>\n",
       "      <th>0</th>\n",
       "      <td>lotus</td>\n",
       "      <td>8</td>\n",
       "      <td>pink</td>\n",
       "    </tr>\n",
       "    <tr>\n",
       "      <th>1</th>\n",
       "      <td>sunflower</td>\n",
       "      <td>34</td>\n",
       "      <td>yellow</td>\n",
       "    </tr>\n",
       "    <tr>\n",
       "      <th>2</th>\n",
       "      <td>rose</td>\n",
       "      <td>5</td>\n",
       "      <td>red</td>\n",
       "    </tr>\n",
       "  </tbody>\n",
       "</table>\n",
       "</div>"
      ],
      "text/plain": [
       "        Name  Number of petals   Color\n",
       "0      lotus                 8    pink\n",
       "1  sunflower                34  yellow\n",
       "2       rose                 5     red"
      ]
     },
     "execution_count": 5,
     "metadata": {},
     "output_type": "execute_result"
    }
   ],
   "source": [
    "flowers = pd.DataFrame(\n",
    "    {\n",
    "        'Name': ['lotus', 'sunflower', 'rose'],\n",
    "        'Number of petals': [8, 34, 5],\n",
    "    },\n",
    ")\n",
    "\n",
    "flowers.assign(\n",
    "    Color=['pink', 'yellow', 'red'],\n",
    ")"
   ]
  },
  {
   "cell_type": "markdown",
   "metadata": {},
   "source": [
    "The `assign` method creates a new DataFrame each time it is called, so the original DataFrame is not affected. For example, the DataFrame `flowers` still has only the two columns that it had when it was created."
   ]
  },
  {
   "cell_type": "code",
   "execution_count": 6,
   "metadata": {},
   "outputs": [
    {
     "data": {
      "text/html": [
       "<div>\n",
       "<style scoped>\n",
       "    .dataframe tbody tr th:only-of-type {\n",
       "        vertical-align: middle;\n",
       "    }\n",
       "\n",
       "    .dataframe tbody tr th {\n",
       "        vertical-align: top;\n",
       "    }\n",
       "\n",
       "    .dataframe thead th {\n",
       "        text-align: right;\n",
       "    }\n",
       "</style>\n",
       "<table border=\"1\" class=\"dataframe\">\n",
       "  <thead>\n",
       "    <tr style=\"text-align: right;\">\n",
       "      <th></th>\n",
       "      <th>Name</th>\n",
       "      <th>Number of petals</th>\n",
       "    </tr>\n",
       "  </thead>\n",
       "  <tbody>\n",
       "    <tr>\n",
       "      <th>0</th>\n",
       "      <td>lotus</td>\n",
       "      <td>8</td>\n",
       "    </tr>\n",
       "    <tr>\n",
       "      <th>1</th>\n",
       "      <td>sunflower</td>\n",
       "      <td>34</td>\n",
       "    </tr>\n",
       "    <tr>\n",
       "      <th>2</th>\n",
       "      <td>rose</td>\n",
       "      <td>5</td>\n",
       "    </tr>\n",
       "  </tbody>\n",
       "</table>\n",
       "</div>"
      ],
      "text/plain": [
       "        Name  Number of petals\n",
       "0      lotus                 8\n",
       "1  sunflower                34\n",
       "2       rose                 5"
      ]
     },
     "execution_count": 6,
     "metadata": {},
     "output_type": "execute_result"
    }
   ],
   "source": [
    "flowers"
   ]
  },
  {
   "cell_type": "markdown",
   "metadata": {},
   "source": [
    "Creating DataFrames in this way involves a lot of typing. If the data have already been entered somewhere, it is usually possible to use Python to read it into a DataFrame, instead of typing it all in cell by cell.\n",
    "\n",
    "Often, DataFrames are created from files that contain comma-separated values. Such files are called CSV files.\n",
    "\n",
    "Below, we use the pandas function `read_csv` to read a CSV file that contains some of the data used by Minard in his graphic about Napoleon's Russian campaign. The data are placed in a DataFrame named `minard`."
   ]
  },
  {
   "cell_type": "code",
   "execution_count": 7,
   "metadata": {},
   "outputs": [
    {
     "data": {
      "text/html": [
       "<div>\n",
       "<style scoped>\n",
       "    .dataframe tbody tr th:only-of-type {\n",
       "        vertical-align: middle;\n",
       "    }\n",
       "\n",
       "    .dataframe tbody tr th {\n",
       "        vertical-align: top;\n",
       "    }\n",
       "\n",
       "    .dataframe thead th {\n",
       "        text-align: right;\n",
       "    }\n",
       "</style>\n",
       "<table border=\"1\" class=\"dataframe\">\n",
       "  <thead>\n",
       "    <tr style=\"text-align: right;\">\n",
       "      <th></th>\n",
       "      <th>Longitude</th>\n",
       "      <th>Latitude</th>\n",
       "      <th>City</th>\n",
       "      <th>Direction</th>\n",
       "      <th>Survivors</th>\n",
       "    </tr>\n",
       "  </thead>\n",
       "  <tbody>\n",
       "    <tr>\n",
       "      <th>0</th>\n",
       "      <td>32.0</td>\n",
       "      <td>54.8</td>\n",
       "      <td>Smolensk</td>\n",
       "      <td>Advance</td>\n",
       "      <td>145000</td>\n",
       "    </tr>\n",
       "    <tr>\n",
       "      <th>1</th>\n",
       "      <td>33.2</td>\n",
       "      <td>54.9</td>\n",
       "      <td>Dorogobouge</td>\n",
       "      <td>Advance</td>\n",
       "      <td>140000</td>\n",
       "    </tr>\n",
       "    <tr>\n",
       "      <th>2</th>\n",
       "      <td>34.4</td>\n",
       "      <td>55.5</td>\n",
       "      <td>Chjat</td>\n",
       "      <td>Advance</td>\n",
       "      <td>127100</td>\n",
       "    </tr>\n",
       "    <tr>\n",
       "      <th>3</th>\n",
       "      <td>37.6</td>\n",
       "      <td>55.8</td>\n",
       "      <td>Moscou</td>\n",
       "      <td>Advance</td>\n",
       "      <td>100000</td>\n",
       "    </tr>\n",
       "    <tr>\n",
       "      <th>4</th>\n",
       "      <td>34.3</td>\n",
       "      <td>55.2</td>\n",
       "      <td>Wixma</td>\n",
       "      <td>Retreat</td>\n",
       "      <td>55000</td>\n",
       "    </tr>\n",
       "    <tr>\n",
       "      <th>5</th>\n",
       "      <td>32.0</td>\n",
       "      <td>54.6</td>\n",
       "      <td>Smolensk</td>\n",
       "      <td>Retreat</td>\n",
       "      <td>24000</td>\n",
       "    </tr>\n",
       "    <tr>\n",
       "      <th>6</th>\n",
       "      <td>30.4</td>\n",
       "      <td>54.4</td>\n",
       "      <td>Orscha</td>\n",
       "      <td>Retreat</td>\n",
       "      <td>20000</td>\n",
       "    </tr>\n",
       "    <tr>\n",
       "      <th>7</th>\n",
       "      <td>26.8</td>\n",
       "      <td>54.3</td>\n",
       "      <td>Moiodexno</td>\n",
       "      <td>Retreat</td>\n",
       "      <td>12000</td>\n",
       "    </tr>\n",
       "  </tbody>\n",
       "</table>\n",
       "</div>"
      ],
      "text/plain": [
       "   Longitude  Latitude         City Direction  Survivors\n",
       "0       32.0      54.8     Smolensk   Advance     145000\n",
       "1       33.2      54.9  Dorogobouge   Advance     140000\n",
       "2       34.4      55.5        Chjat   Advance     127100\n",
       "3       37.6      55.8       Moscou   Advance     100000\n",
       "4       34.3      55.2        Wixma   Retreat      55000\n",
       "5       32.0      54.6     Smolensk   Retreat      24000\n",
       "6       30.4      54.4       Orscha   Retreat      20000\n",
       "7       26.8      54.3    Moiodexno   Retreat      12000"
      ]
     },
     "execution_count": 7,
     "metadata": {},
     "output_type": "execute_result"
    }
   ],
   "source": [
    "minard = pd.read_csv(PATH_DATA / 'minard.csv')\n",
    "\n",
    "minard"
   ]
  },
  {
   "cell_type": "markdown",
   "metadata": {},
   "source": [
    "We will use this small data set to demonstrate some useful DataFrame methods. We will then use those same methods, and develop other methods, on much larger tables of data."
   ]
  },
  {
   "cell_type": "markdown",
   "metadata": {},
   "source": [
    "### The Shape of the Data ###\n",
    "\n",
    "The `shape` of a DataFrame is its number of rows and columns."
   ]
  },
  {
   "cell_type": "code",
   "execution_count": 8,
   "metadata": {},
   "outputs": [
    {
     "data": {
      "text/plain": [
       "(8, 5)"
      ]
     },
     "execution_count": 8,
     "metadata": {},
     "output_type": "execute_result"
    }
   ],
   "source": [
    "minard.shape"
   ]
  },
  {
   "cell_type": "markdown",
   "metadata": {},
   "source": [
    "The number of rows can therefore be retrieved from the sequence returned by the `shape` property."
   ]
  },
  {
   "cell_type": "code",
   "execution_count": 9,
   "metadata": {},
   "outputs": [
    {
     "data": {
      "text/plain": [
       "8"
      ]
     },
     "execution_count": 9,
     "metadata": {},
     "output_type": "execute_result"
    }
   ],
   "source": [
    "minard.shape[0]"
   ]
  },
  {
   "cell_type": "markdown",
   "metadata": {},
   "source": [
    "…or the number of columns:"
   ]
  },
  {
   "cell_type": "code",
   "execution_count": 10,
   "metadata": {},
   "outputs": [
    {
     "data": {
      "text/plain": [
       "5"
      ]
     },
     "execution_count": 10,
     "metadata": {},
     "output_type": "execute_result"
    }
   ],
   "source": [
    "minard.shape[1]"
   ]
  },
  {
   "cell_type": "markdown",
   "metadata": {},
   "source": [
    "### Column Labels \n",
    "The property `columns` can be used to list the labels of all the columns. With `minard` we don't gain much by this, but it can be very useful for tables that are so large that not all columns are visible on the screen."
   ]
  },
  {
   "cell_type": "code",
   "execution_count": 11,
   "metadata": {},
   "outputs": [
    {
     "data": {
      "text/plain": [
       "['Longitude', 'Latitude', 'City', 'Direction', 'Survivors']"
      ]
     },
     "execution_count": 11,
     "metadata": {},
     "output_type": "execute_result"
    }
   ],
   "source": [
    "minard.columns.to_list()"
   ]
  },
  {
   "cell_type": "markdown",
   "metadata": {},
   "source": [
    "We can change column labels using the `rename` method. This creates a new DataFrame and leaves `minard` unchanged."
   ]
  },
  {
   "cell_type": "code",
   "execution_count": 12,
   "metadata": {},
   "outputs": [
    {
     "data": {
      "text/html": [
       "<div>\n",
       "<style scoped>\n",
       "    .dataframe tbody tr th:only-of-type {\n",
       "        vertical-align: middle;\n",
       "    }\n",
       "\n",
       "    .dataframe tbody tr th {\n",
       "        vertical-align: top;\n",
       "    }\n",
       "\n",
       "    .dataframe thead th {\n",
       "        text-align: right;\n",
       "    }\n",
       "</style>\n",
       "<table border=\"1\" class=\"dataframe\">\n",
       "  <thead>\n",
       "    <tr style=\"text-align: right;\">\n",
       "      <th></th>\n",
       "      <th>Longitude</th>\n",
       "      <th>Latitude</th>\n",
       "      <th>City Name</th>\n",
       "      <th>Direction</th>\n",
       "      <th>Survivors</th>\n",
       "    </tr>\n",
       "  </thead>\n",
       "  <tbody>\n",
       "    <tr>\n",
       "      <th>0</th>\n",
       "      <td>32.0</td>\n",
       "      <td>54.8</td>\n",
       "      <td>Smolensk</td>\n",
       "      <td>Advance</td>\n",
       "      <td>145000</td>\n",
       "    </tr>\n",
       "    <tr>\n",
       "      <th>1</th>\n",
       "      <td>33.2</td>\n",
       "      <td>54.9</td>\n",
       "      <td>Dorogobouge</td>\n",
       "      <td>Advance</td>\n",
       "      <td>140000</td>\n",
       "    </tr>\n",
       "    <tr>\n",
       "      <th>2</th>\n",
       "      <td>34.4</td>\n",
       "      <td>55.5</td>\n",
       "      <td>Chjat</td>\n",
       "      <td>Advance</td>\n",
       "      <td>127100</td>\n",
       "    </tr>\n",
       "    <tr>\n",
       "      <th>3</th>\n",
       "      <td>37.6</td>\n",
       "      <td>55.8</td>\n",
       "      <td>Moscou</td>\n",
       "      <td>Advance</td>\n",
       "      <td>100000</td>\n",
       "    </tr>\n",
       "    <tr>\n",
       "      <th>4</th>\n",
       "      <td>34.3</td>\n",
       "      <td>55.2</td>\n",
       "      <td>Wixma</td>\n",
       "      <td>Retreat</td>\n",
       "      <td>55000</td>\n",
       "    </tr>\n",
       "    <tr>\n",
       "      <th>5</th>\n",
       "      <td>32.0</td>\n",
       "      <td>54.6</td>\n",
       "      <td>Smolensk</td>\n",
       "      <td>Retreat</td>\n",
       "      <td>24000</td>\n",
       "    </tr>\n",
       "    <tr>\n",
       "      <th>6</th>\n",
       "      <td>30.4</td>\n",
       "      <td>54.4</td>\n",
       "      <td>Orscha</td>\n",
       "      <td>Retreat</td>\n",
       "      <td>20000</td>\n",
       "    </tr>\n",
       "    <tr>\n",
       "      <th>7</th>\n",
       "      <td>26.8</td>\n",
       "      <td>54.3</td>\n",
       "      <td>Moiodexno</td>\n",
       "      <td>Retreat</td>\n",
       "      <td>12000</td>\n",
       "    </tr>\n",
       "  </tbody>\n",
       "</table>\n",
       "</div>"
      ],
      "text/plain": [
       "   Longitude  Latitude    City Name Direction  Survivors\n",
       "0       32.0      54.8     Smolensk   Advance     145000\n",
       "1       33.2      54.9  Dorogobouge   Advance     140000\n",
       "2       34.4      55.5        Chjat   Advance     127100\n",
       "3       37.6      55.8       Moscou   Advance     100000\n",
       "4       34.3      55.2        Wixma   Retreat      55000\n",
       "5       32.0      54.6     Smolensk   Retreat      24000\n",
       "6       30.4      54.4       Orscha   Retreat      20000\n",
       "7       26.8      54.3    Moiodexno   Retreat      12000"
      ]
     },
     "execution_count": 12,
     "metadata": {},
     "output_type": "execute_result"
    }
   ],
   "source": [
    "minard.rename(\n",
    "    columns={\n",
    "        'City': 'City Name',\n",
    "    },\n",
    ")"
   ]
  },
  {
   "cell_type": "markdown",
   "metadata": {},
   "source": [
    "However, this method does not change the original table. "
   ]
  },
  {
   "cell_type": "code",
   "execution_count": 13,
   "metadata": {},
   "outputs": [
    {
     "data": {
      "text/html": [
       "<div>\n",
       "<style scoped>\n",
       "    .dataframe tbody tr th:only-of-type {\n",
       "        vertical-align: middle;\n",
       "    }\n",
       "\n",
       "    .dataframe tbody tr th {\n",
       "        vertical-align: top;\n",
       "    }\n",
       "\n",
       "    .dataframe thead th {\n",
       "        text-align: right;\n",
       "    }\n",
       "</style>\n",
       "<table border=\"1\" class=\"dataframe\">\n",
       "  <thead>\n",
       "    <tr style=\"text-align: right;\">\n",
       "      <th></th>\n",
       "      <th>Longitude</th>\n",
       "      <th>Latitude</th>\n",
       "      <th>City</th>\n",
       "      <th>Direction</th>\n",
       "      <th>Survivors</th>\n",
       "    </tr>\n",
       "  </thead>\n",
       "  <tbody>\n",
       "    <tr>\n",
       "      <th>0</th>\n",
       "      <td>32.0</td>\n",
       "      <td>54.8</td>\n",
       "      <td>Smolensk</td>\n",
       "      <td>Advance</td>\n",
       "      <td>145000</td>\n",
       "    </tr>\n",
       "    <tr>\n",
       "      <th>1</th>\n",
       "      <td>33.2</td>\n",
       "      <td>54.9</td>\n",
       "      <td>Dorogobouge</td>\n",
       "      <td>Advance</td>\n",
       "      <td>140000</td>\n",
       "    </tr>\n",
       "    <tr>\n",
       "      <th>2</th>\n",
       "      <td>34.4</td>\n",
       "      <td>55.5</td>\n",
       "      <td>Chjat</td>\n",
       "      <td>Advance</td>\n",
       "      <td>127100</td>\n",
       "    </tr>\n",
       "    <tr>\n",
       "      <th>3</th>\n",
       "      <td>37.6</td>\n",
       "      <td>55.8</td>\n",
       "      <td>Moscou</td>\n",
       "      <td>Advance</td>\n",
       "      <td>100000</td>\n",
       "    </tr>\n",
       "    <tr>\n",
       "      <th>4</th>\n",
       "      <td>34.3</td>\n",
       "      <td>55.2</td>\n",
       "      <td>Wixma</td>\n",
       "      <td>Retreat</td>\n",
       "      <td>55000</td>\n",
       "    </tr>\n",
       "    <tr>\n",
       "      <th>5</th>\n",
       "      <td>32.0</td>\n",
       "      <td>54.6</td>\n",
       "      <td>Smolensk</td>\n",
       "      <td>Retreat</td>\n",
       "      <td>24000</td>\n",
       "    </tr>\n",
       "    <tr>\n",
       "      <th>6</th>\n",
       "      <td>30.4</td>\n",
       "      <td>54.4</td>\n",
       "      <td>Orscha</td>\n",
       "      <td>Retreat</td>\n",
       "      <td>20000</td>\n",
       "    </tr>\n",
       "    <tr>\n",
       "      <th>7</th>\n",
       "      <td>26.8</td>\n",
       "      <td>54.3</td>\n",
       "      <td>Moiodexno</td>\n",
       "      <td>Retreat</td>\n",
       "      <td>12000</td>\n",
       "    </tr>\n",
       "  </tbody>\n",
       "</table>\n",
       "</div>"
      ],
      "text/plain": [
       "   Longitude  Latitude         City Direction  Survivors\n",
       "0       32.0      54.8     Smolensk   Advance     145000\n",
       "1       33.2      54.9  Dorogobouge   Advance     140000\n",
       "2       34.4      55.5        Chjat   Advance     127100\n",
       "3       37.6      55.8       Moscou   Advance     100000\n",
       "4       34.3      55.2        Wixma   Retreat      55000\n",
       "5       32.0      54.6     Smolensk   Retreat      24000\n",
       "6       30.4      54.4       Orscha   Retreat      20000\n",
       "7       26.8      54.3    Moiodexno   Retreat      12000"
      ]
     },
     "execution_count": 13,
     "metadata": {},
     "output_type": "execute_result"
    }
   ],
   "source": [
    "minard"
   ]
  },
  {
   "cell_type": "markdown",
   "metadata": {},
   "source": [
    "A common pattern is to assign the original name `minard` to the new DataFrame, so that all future uses of `minard` will refer to the relabeled data."
   ]
  },
  {
   "cell_type": "code",
   "execution_count": 14,
   "metadata": {},
   "outputs": [
    {
     "data": {
      "text/html": [
       "<div>\n",
       "<style scoped>\n",
       "    .dataframe tbody tr th:only-of-type {\n",
       "        vertical-align: middle;\n",
       "    }\n",
       "\n",
       "    .dataframe tbody tr th {\n",
       "        vertical-align: top;\n",
       "    }\n",
       "\n",
       "    .dataframe thead th {\n",
       "        text-align: right;\n",
       "    }\n",
       "</style>\n",
       "<table border=\"1\" class=\"dataframe\">\n",
       "  <thead>\n",
       "    <tr style=\"text-align: right;\">\n",
       "      <th></th>\n",
       "      <th>Longitude</th>\n",
       "      <th>Latitude</th>\n",
       "      <th>City Name</th>\n",
       "      <th>Direction</th>\n",
       "      <th>Survivors</th>\n",
       "    </tr>\n",
       "  </thead>\n",
       "  <tbody>\n",
       "    <tr>\n",
       "      <th>0</th>\n",
       "      <td>32.0</td>\n",
       "      <td>54.8</td>\n",
       "      <td>Smolensk</td>\n",
       "      <td>Advance</td>\n",
       "      <td>145000</td>\n",
       "    </tr>\n",
       "    <tr>\n",
       "      <th>1</th>\n",
       "      <td>33.2</td>\n",
       "      <td>54.9</td>\n",
       "      <td>Dorogobouge</td>\n",
       "      <td>Advance</td>\n",
       "      <td>140000</td>\n",
       "    </tr>\n",
       "    <tr>\n",
       "      <th>2</th>\n",
       "      <td>34.4</td>\n",
       "      <td>55.5</td>\n",
       "      <td>Chjat</td>\n",
       "      <td>Advance</td>\n",
       "      <td>127100</td>\n",
       "    </tr>\n",
       "    <tr>\n",
       "      <th>3</th>\n",
       "      <td>37.6</td>\n",
       "      <td>55.8</td>\n",
       "      <td>Moscou</td>\n",
       "      <td>Advance</td>\n",
       "      <td>100000</td>\n",
       "    </tr>\n",
       "    <tr>\n",
       "      <th>4</th>\n",
       "      <td>34.3</td>\n",
       "      <td>55.2</td>\n",
       "      <td>Wixma</td>\n",
       "      <td>Retreat</td>\n",
       "      <td>55000</td>\n",
       "    </tr>\n",
       "    <tr>\n",
       "      <th>5</th>\n",
       "      <td>32.0</td>\n",
       "      <td>54.6</td>\n",
       "      <td>Smolensk</td>\n",
       "      <td>Retreat</td>\n",
       "      <td>24000</td>\n",
       "    </tr>\n",
       "    <tr>\n",
       "      <th>6</th>\n",
       "      <td>30.4</td>\n",
       "      <td>54.4</td>\n",
       "      <td>Orscha</td>\n",
       "      <td>Retreat</td>\n",
       "      <td>20000</td>\n",
       "    </tr>\n",
       "    <tr>\n",
       "      <th>7</th>\n",
       "      <td>26.8</td>\n",
       "      <td>54.3</td>\n",
       "      <td>Moiodexno</td>\n",
       "      <td>Retreat</td>\n",
       "      <td>12000</td>\n",
       "    </tr>\n",
       "  </tbody>\n",
       "</table>\n",
       "</div>"
      ],
      "text/plain": [
       "   Longitude  Latitude    City Name Direction  Survivors\n",
       "0       32.0      54.8     Smolensk   Advance     145000\n",
       "1       33.2      54.9  Dorogobouge   Advance     140000\n",
       "2       34.4      55.5        Chjat   Advance     127100\n",
       "3       37.6      55.8       Moscou   Advance     100000\n",
       "4       34.3      55.2        Wixma   Retreat      55000\n",
       "5       32.0      54.6     Smolensk   Retreat      24000\n",
       "6       30.4      54.4       Orscha   Retreat      20000\n",
       "7       26.8      54.3    Moiodexno   Retreat      12000"
      ]
     },
     "execution_count": 14,
     "metadata": {},
     "output_type": "execute_result"
    }
   ],
   "source": [
    "minard = minard.rename(\n",
    "    columns={\n",
    "        'City': 'City Name',\n",
    "    },\n",
    ")\n",
    "\n",
    "minard"
   ]
  },
  {
   "cell_type": "markdown",
   "metadata": {},
   "source": [
    "### Accessing the Data in a Column ###\n",
    "We can use a column's label to access the series of data in the column."
   ]
  },
  {
   "cell_type": "code",
   "execution_count": 15,
   "metadata": {},
   "outputs": [
    {
     "data": {
      "text/plain": [
       "0    145000\n",
       "1    140000\n",
       "2    127100\n",
       "3    100000\n",
       "4     55000\n",
       "5     24000\n",
       "6     20000\n",
       "7     12000\n",
       "Name: Survivors, dtype: int64"
      ]
     },
     "execution_count": 15,
     "metadata": {},
     "output_type": "execute_result"
    }
   ],
   "source": [
    "minard['Survivors']"
   ]
  },
  {
   "cell_type": "markdown",
   "metadata": {},
   "source": [
    "For simple column labels, such as Survivors, we can even treat the column like a standard property of the DataFrame."
   ]
  },
  {
   "cell_type": "code",
   "execution_count": 16,
   "metadata": {},
   "outputs": [
    {
     "data": {
      "text/plain": [
       "0    145000\n",
       "1    140000\n",
       "2    127100\n",
       "3    100000\n",
       "4     55000\n",
       "5     24000\n",
       "6     20000\n",
       "7     12000\n",
       "Name: Survivors, dtype: int64"
      ]
     },
     "execution_count": 16,
     "metadata": {},
     "output_type": "execute_result"
    }
   ],
   "source": [
    "minard.Survivors"
   ]
  },
  {
   "cell_type": "markdown",
   "metadata": {},
   "source": [
    "(Note, however, that this latter syntax won't work for column labels containing spaces or punctuation beyond underscores – the label \"this is cool!\" cannot be accessed in this manner. Rather, it would have to be referred to as `minard['this is cool!']`.)"
   ]
  },
  {
   "cell_type": "markdown",
   "metadata": {},
   "source": [
    "The 8 items in the series are indexed starting with 0, by default – 0, 1, 2, and so on, up to 7. The items in the column can be accessed as well."
   ]
  },
  {
   "cell_type": "code",
   "execution_count": 17,
   "metadata": {},
   "outputs": [
    {
     "data": {
      "text/plain": [
       "145000"
      ]
     },
     "execution_count": 17,
     "metadata": {},
     "output_type": "execute_result"
    }
   ],
   "source": [
    "minard['Survivors'][0]"
   ]
  },
  {
   "cell_type": "code",
   "execution_count": 18,
   "metadata": {},
   "outputs": [
    {
     "data": {
      "text/plain": [
       "24000"
      ]
     },
     "execution_count": 18,
     "metadata": {},
     "output_type": "execute_result"
    }
   ],
   "source": [
    "minard['Survivors'][5]"
   ]
  },
  {
   "cell_type": "markdown",
   "metadata": {},
   "source": [
    "### Working with the Data in a Column ###\n",
    "\n",
    "Because columns are underpinned by arrays, we can use array operations on them to discover new information. For example, we can create a new column that contains the percent of all survivors at each city after Smolensk."
   ]
  },
  {
   "cell_type": "markdown",
   "metadata": {},
   "source": [
    "Because in this case we actually *want* to modify the original DataFrame – rather than preserve both – we'll use direct assignment, rather than the `assign` method.\n",
    "\n",
    "(This has the added benefit that we can more easily specify a sophisticated label, which contains spaces. However, it is often a safe default course of action to create a new DataFrame, via `assign`.)"
   ]
  },
  {
   "cell_type": "code",
   "execution_count": 19,
   "metadata": {},
   "outputs": [
    {
     "data": {
      "text/html": [
       "<div>\n",
       "<style scoped>\n",
       "    .dataframe tbody tr th:only-of-type {\n",
       "        vertical-align: middle;\n",
       "    }\n",
       "\n",
       "    .dataframe tbody tr th {\n",
       "        vertical-align: top;\n",
       "    }\n",
       "\n",
       "    .dataframe thead th {\n",
       "        text-align: right;\n",
       "    }\n",
       "</style>\n",
       "<table border=\"1\" class=\"dataframe\">\n",
       "  <thead>\n",
       "    <tr style=\"text-align: right;\">\n",
       "      <th></th>\n",
       "      <th>Longitude</th>\n",
       "      <th>Latitude</th>\n",
       "      <th>City Name</th>\n",
       "      <th>Direction</th>\n",
       "      <th>Survivors</th>\n",
       "      <th>Percent Surviving</th>\n",
       "    </tr>\n",
       "  </thead>\n",
       "  <tbody>\n",
       "    <tr>\n",
       "      <th>0</th>\n",
       "      <td>32.0</td>\n",
       "      <td>54.8</td>\n",
       "      <td>Smolensk</td>\n",
       "      <td>Advance</td>\n",
       "      <td>145000</td>\n",
       "      <td>1.000000</td>\n",
       "    </tr>\n",
       "    <tr>\n",
       "      <th>1</th>\n",
       "      <td>33.2</td>\n",
       "      <td>54.9</td>\n",
       "      <td>Dorogobouge</td>\n",
       "      <td>Advance</td>\n",
       "      <td>140000</td>\n",
       "      <td>0.965517</td>\n",
       "    </tr>\n",
       "    <tr>\n",
       "      <th>2</th>\n",
       "      <td>34.4</td>\n",
       "      <td>55.5</td>\n",
       "      <td>Chjat</td>\n",
       "      <td>Advance</td>\n",
       "      <td>127100</td>\n",
       "      <td>0.876552</td>\n",
       "    </tr>\n",
       "    <tr>\n",
       "      <th>3</th>\n",
       "      <td>37.6</td>\n",
       "      <td>55.8</td>\n",
       "      <td>Moscou</td>\n",
       "      <td>Advance</td>\n",
       "      <td>100000</td>\n",
       "      <td>0.689655</td>\n",
       "    </tr>\n",
       "    <tr>\n",
       "      <th>4</th>\n",
       "      <td>34.3</td>\n",
       "      <td>55.2</td>\n",
       "      <td>Wixma</td>\n",
       "      <td>Retreat</td>\n",
       "      <td>55000</td>\n",
       "      <td>0.379310</td>\n",
       "    </tr>\n",
       "    <tr>\n",
       "      <th>5</th>\n",
       "      <td>32.0</td>\n",
       "      <td>54.6</td>\n",
       "      <td>Smolensk</td>\n",
       "      <td>Retreat</td>\n",
       "      <td>24000</td>\n",
       "      <td>0.165517</td>\n",
       "    </tr>\n",
       "    <tr>\n",
       "      <th>6</th>\n",
       "      <td>30.4</td>\n",
       "      <td>54.4</td>\n",
       "      <td>Orscha</td>\n",
       "      <td>Retreat</td>\n",
       "      <td>20000</td>\n",
       "      <td>0.137931</td>\n",
       "    </tr>\n",
       "    <tr>\n",
       "      <th>7</th>\n",
       "      <td>26.8</td>\n",
       "      <td>54.3</td>\n",
       "      <td>Moiodexno</td>\n",
       "      <td>Retreat</td>\n",
       "      <td>12000</td>\n",
       "      <td>0.082759</td>\n",
       "    </tr>\n",
       "  </tbody>\n",
       "</table>\n",
       "</div>"
      ],
      "text/plain": [
       "   Longitude  Latitude    City Name Direction  Survivors  Percent Surviving\n",
       "0       32.0      54.8     Smolensk   Advance     145000           1.000000\n",
       "1       33.2      54.9  Dorogobouge   Advance     140000           0.965517\n",
       "2       34.4      55.5        Chjat   Advance     127100           0.876552\n",
       "3       37.6      55.8       Moscou   Advance     100000           0.689655\n",
       "4       34.3      55.2        Wixma   Retreat      55000           0.379310\n",
       "5       32.0      54.6     Smolensk   Retreat      24000           0.165517\n",
       "6       30.4      54.4       Orscha   Retreat      20000           0.137931\n",
       "7       26.8      54.3    Moiodexno   Retreat      12000           0.082759"
      ]
     },
     "execution_count": 19,
     "metadata": {},
     "output_type": "execute_result"
    }
   ],
   "source": [
    "initial_count = minard['Survivors'][0]\n",
    "\n",
    "minard['Percent Surviving'] = minard['Survivors'] / initial_count\n",
    "\n",
    "minard"
   ]
  },
  {
   "cell_type": "markdown",
   "metadata": {},
   "source": [
    "To make the proportions in the new column appear as percentages, we can use the `format` method of the DataFrame's `style` property. The `format` method accepts a single formatting function or formatting string, or a dictionary of formatters to apply by column.\n",
    "\n",
    "Pandas uses the formatting string `\"{:.2%}\"` against data values as follows."
   ]
  },
  {
   "cell_type": "code",
   "execution_count": 20,
   "metadata": {},
   "outputs": [
    {
     "data": {
      "text/plain": [
       "'8.28%'"
      ]
     },
     "execution_count": 20,
     "metadata": {},
     "output_type": "execute_result"
    }
   ],
   "source": [
    "\"{:.2%}\".format(0.082759)"
   ]
  },
  {
   "cell_type": "markdown",
   "metadata": {},
   "source": [
    "And so we can apply this formatting string to our new column."
   ]
  },
  {
   "cell_type": "code",
   "execution_count": 21,
   "metadata": {},
   "outputs": [
    {
     "data": {
      "text/html": [
       "<style  type=\"text/css\" >\n",
       "</style><table id=\"T_1f7373f2_a9bd_11e9_94b2_e7bf19016fc9\" ><thead>    <tr>        <th class=\"blank level0\" ></th>        <th class=\"col_heading level0 col0\" >Longitude</th>        <th class=\"col_heading level0 col1\" >Latitude</th>        <th class=\"col_heading level0 col2\" >City Name</th>        <th class=\"col_heading level0 col3\" >Direction</th>        <th class=\"col_heading level0 col4\" >Survivors</th>        <th class=\"col_heading level0 col5\" >Percent Surviving</th>    </tr></thead><tbody>\n",
       "                <tr>\n",
       "                        <th id=\"T_1f7373f2_a9bd_11e9_94b2_e7bf19016fc9level0_row0\" class=\"row_heading level0 row0\" >0</th>\n",
       "                        <td id=\"T_1f7373f2_a9bd_11e9_94b2_e7bf19016fc9row0_col0\" class=\"data row0 col0\" >32</td>\n",
       "                        <td id=\"T_1f7373f2_a9bd_11e9_94b2_e7bf19016fc9row0_col1\" class=\"data row0 col1\" >54.8</td>\n",
       "                        <td id=\"T_1f7373f2_a9bd_11e9_94b2_e7bf19016fc9row0_col2\" class=\"data row0 col2\" >Smolensk</td>\n",
       "                        <td id=\"T_1f7373f2_a9bd_11e9_94b2_e7bf19016fc9row0_col3\" class=\"data row0 col3\" >Advance</td>\n",
       "                        <td id=\"T_1f7373f2_a9bd_11e9_94b2_e7bf19016fc9row0_col4\" class=\"data row0 col4\" >145000</td>\n",
       "                        <td id=\"T_1f7373f2_a9bd_11e9_94b2_e7bf19016fc9row0_col5\" class=\"data row0 col5\" >100.00%</td>\n",
       "            </tr>\n",
       "            <tr>\n",
       "                        <th id=\"T_1f7373f2_a9bd_11e9_94b2_e7bf19016fc9level0_row1\" class=\"row_heading level0 row1\" >1</th>\n",
       "                        <td id=\"T_1f7373f2_a9bd_11e9_94b2_e7bf19016fc9row1_col0\" class=\"data row1 col0\" >33.2</td>\n",
       "                        <td id=\"T_1f7373f2_a9bd_11e9_94b2_e7bf19016fc9row1_col1\" class=\"data row1 col1\" >54.9</td>\n",
       "                        <td id=\"T_1f7373f2_a9bd_11e9_94b2_e7bf19016fc9row1_col2\" class=\"data row1 col2\" >Dorogobouge</td>\n",
       "                        <td id=\"T_1f7373f2_a9bd_11e9_94b2_e7bf19016fc9row1_col3\" class=\"data row1 col3\" >Advance</td>\n",
       "                        <td id=\"T_1f7373f2_a9bd_11e9_94b2_e7bf19016fc9row1_col4\" class=\"data row1 col4\" >140000</td>\n",
       "                        <td id=\"T_1f7373f2_a9bd_11e9_94b2_e7bf19016fc9row1_col5\" class=\"data row1 col5\" >96.55%</td>\n",
       "            </tr>\n",
       "            <tr>\n",
       "                        <th id=\"T_1f7373f2_a9bd_11e9_94b2_e7bf19016fc9level0_row2\" class=\"row_heading level0 row2\" >2</th>\n",
       "                        <td id=\"T_1f7373f2_a9bd_11e9_94b2_e7bf19016fc9row2_col0\" class=\"data row2 col0\" >34.4</td>\n",
       "                        <td id=\"T_1f7373f2_a9bd_11e9_94b2_e7bf19016fc9row2_col1\" class=\"data row2 col1\" >55.5</td>\n",
       "                        <td id=\"T_1f7373f2_a9bd_11e9_94b2_e7bf19016fc9row2_col2\" class=\"data row2 col2\" >Chjat</td>\n",
       "                        <td id=\"T_1f7373f2_a9bd_11e9_94b2_e7bf19016fc9row2_col3\" class=\"data row2 col3\" >Advance</td>\n",
       "                        <td id=\"T_1f7373f2_a9bd_11e9_94b2_e7bf19016fc9row2_col4\" class=\"data row2 col4\" >127100</td>\n",
       "                        <td id=\"T_1f7373f2_a9bd_11e9_94b2_e7bf19016fc9row2_col5\" class=\"data row2 col5\" >87.66%</td>\n",
       "            </tr>\n",
       "            <tr>\n",
       "                        <th id=\"T_1f7373f2_a9bd_11e9_94b2_e7bf19016fc9level0_row3\" class=\"row_heading level0 row3\" >3</th>\n",
       "                        <td id=\"T_1f7373f2_a9bd_11e9_94b2_e7bf19016fc9row3_col0\" class=\"data row3 col0\" >37.6</td>\n",
       "                        <td id=\"T_1f7373f2_a9bd_11e9_94b2_e7bf19016fc9row3_col1\" class=\"data row3 col1\" >55.8</td>\n",
       "                        <td id=\"T_1f7373f2_a9bd_11e9_94b2_e7bf19016fc9row3_col2\" class=\"data row3 col2\" >Moscou</td>\n",
       "                        <td id=\"T_1f7373f2_a9bd_11e9_94b2_e7bf19016fc9row3_col3\" class=\"data row3 col3\" >Advance</td>\n",
       "                        <td id=\"T_1f7373f2_a9bd_11e9_94b2_e7bf19016fc9row3_col4\" class=\"data row3 col4\" >100000</td>\n",
       "                        <td id=\"T_1f7373f2_a9bd_11e9_94b2_e7bf19016fc9row3_col5\" class=\"data row3 col5\" >68.97%</td>\n",
       "            </tr>\n",
       "            <tr>\n",
       "                        <th id=\"T_1f7373f2_a9bd_11e9_94b2_e7bf19016fc9level0_row4\" class=\"row_heading level0 row4\" >4</th>\n",
       "                        <td id=\"T_1f7373f2_a9bd_11e9_94b2_e7bf19016fc9row4_col0\" class=\"data row4 col0\" >34.3</td>\n",
       "                        <td id=\"T_1f7373f2_a9bd_11e9_94b2_e7bf19016fc9row4_col1\" class=\"data row4 col1\" >55.2</td>\n",
       "                        <td id=\"T_1f7373f2_a9bd_11e9_94b2_e7bf19016fc9row4_col2\" class=\"data row4 col2\" >Wixma</td>\n",
       "                        <td id=\"T_1f7373f2_a9bd_11e9_94b2_e7bf19016fc9row4_col3\" class=\"data row4 col3\" >Retreat</td>\n",
       "                        <td id=\"T_1f7373f2_a9bd_11e9_94b2_e7bf19016fc9row4_col4\" class=\"data row4 col4\" >55000</td>\n",
       "                        <td id=\"T_1f7373f2_a9bd_11e9_94b2_e7bf19016fc9row4_col5\" class=\"data row4 col5\" >37.93%</td>\n",
       "            </tr>\n",
       "            <tr>\n",
       "                        <th id=\"T_1f7373f2_a9bd_11e9_94b2_e7bf19016fc9level0_row5\" class=\"row_heading level0 row5\" >5</th>\n",
       "                        <td id=\"T_1f7373f2_a9bd_11e9_94b2_e7bf19016fc9row5_col0\" class=\"data row5 col0\" >32</td>\n",
       "                        <td id=\"T_1f7373f2_a9bd_11e9_94b2_e7bf19016fc9row5_col1\" class=\"data row5 col1\" >54.6</td>\n",
       "                        <td id=\"T_1f7373f2_a9bd_11e9_94b2_e7bf19016fc9row5_col2\" class=\"data row5 col2\" >Smolensk</td>\n",
       "                        <td id=\"T_1f7373f2_a9bd_11e9_94b2_e7bf19016fc9row5_col3\" class=\"data row5 col3\" >Retreat</td>\n",
       "                        <td id=\"T_1f7373f2_a9bd_11e9_94b2_e7bf19016fc9row5_col4\" class=\"data row5 col4\" >24000</td>\n",
       "                        <td id=\"T_1f7373f2_a9bd_11e9_94b2_e7bf19016fc9row5_col5\" class=\"data row5 col5\" >16.55%</td>\n",
       "            </tr>\n",
       "            <tr>\n",
       "                        <th id=\"T_1f7373f2_a9bd_11e9_94b2_e7bf19016fc9level0_row6\" class=\"row_heading level0 row6\" >6</th>\n",
       "                        <td id=\"T_1f7373f2_a9bd_11e9_94b2_e7bf19016fc9row6_col0\" class=\"data row6 col0\" >30.4</td>\n",
       "                        <td id=\"T_1f7373f2_a9bd_11e9_94b2_e7bf19016fc9row6_col1\" class=\"data row6 col1\" >54.4</td>\n",
       "                        <td id=\"T_1f7373f2_a9bd_11e9_94b2_e7bf19016fc9row6_col2\" class=\"data row6 col2\" >Orscha</td>\n",
       "                        <td id=\"T_1f7373f2_a9bd_11e9_94b2_e7bf19016fc9row6_col3\" class=\"data row6 col3\" >Retreat</td>\n",
       "                        <td id=\"T_1f7373f2_a9bd_11e9_94b2_e7bf19016fc9row6_col4\" class=\"data row6 col4\" >20000</td>\n",
       "                        <td id=\"T_1f7373f2_a9bd_11e9_94b2_e7bf19016fc9row6_col5\" class=\"data row6 col5\" >13.79%</td>\n",
       "            </tr>\n",
       "            <tr>\n",
       "                        <th id=\"T_1f7373f2_a9bd_11e9_94b2_e7bf19016fc9level0_row7\" class=\"row_heading level0 row7\" >7</th>\n",
       "                        <td id=\"T_1f7373f2_a9bd_11e9_94b2_e7bf19016fc9row7_col0\" class=\"data row7 col0\" >26.8</td>\n",
       "                        <td id=\"T_1f7373f2_a9bd_11e9_94b2_e7bf19016fc9row7_col1\" class=\"data row7 col1\" >54.3</td>\n",
       "                        <td id=\"T_1f7373f2_a9bd_11e9_94b2_e7bf19016fc9row7_col2\" class=\"data row7 col2\" >Moiodexno</td>\n",
       "                        <td id=\"T_1f7373f2_a9bd_11e9_94b2_e7bf19016fc9row7_col3\" class=\"data row7 col3\" >Retreat</td>\n",
       "                        <td id=\"T_1f7373f2_a9bd_11e9_94b2_e7bf19016fc9row7_col4\" class=\"data row7 col4\" >12000</td>\n",
       "                        <td id=\"T_1f7373f2_a9bd_11e9_94b2_e7bf19016fc9row7_col5\" class=\"data row7 col5\" >8.28%</td>\n",
       "            </tr>\n",
       "    </tbody></table>"
      ],
      "text/plain": [
       "<pandas.io.formats.style.Styler at 0x7f8909d881d0>"
      ]
     },
     "execution_count": 21,
     "metadata": {},
     "output_type": "execute_result"
    }
   ],
   "source": [
    "minard.style.format(\n",
    "    {\n",
    "        'Percent Surviving': \"{:.2%}\",\n",
    "    },\n",
    ")"
   ]
  },
  {
   "cell_type": "markdown",
   "metadata": {},
   "source": [
    "And we can hang onto our formatting specification for reuse."
   ]
  },
  {
   "cell_type": "code",
   "execution_count": 22,
   "metadata": {},
   "outputs": [
    {
     "data": {
      "text/html": [
       "<style  type=\"text/css\" >\n",
       "</style><table id=\"T_1f7373f3_a9bd_11e9_94b2_e7bf19016fc9\" ><thead>    <tr>        <th class=\"blank level0\" ></th>        <th class=\"col_heading level0 col0\" >Longitude</th>        <th class=\"col_heading level0 col1\" >Latitude</th>        <th class=\"col_heading level0 col2\" >City Name</th>        <th class=\"col_heading level0 col3\" >Direction</th>        <th class=\"col_heading level0 col4\" >Survivors</th>        <th class=\"col_heading level0 col5\" >Percent Surviving</th>    </tr></thead><tbody>\n",
       "                <tr>\n",
       "                        <th id=\"T_1f7373f3_a9bd_11e9_94b2_e7bf19016fc9level0_row0\" class=\"row_heading level0 row0\" >0</th>\n",
       "                        <td id=\"T_1f7373f3_a9bd_11e9_94b2_e7bf19016fc9row0_col0\" class=\"data row0 col0\" >32</td>\n",
       "                        <td id=\"T_1f7373f3_a9bd_11e9_94b2_e7bf19016fc9row0_col1\" class=\"data row0 col1\" >54.8</td>\n",
       "                        <td id=\"T_1f7373f3_a9bd_11e9_94b2_e7bf19016fc9row0_col2\" class=\"data row0 col2\" >Smolensk</td>\n",
       "                        <td id=\"T_1f7373f3_a9bd_11e9_94b2_e7bf19016fc9row0_col3\" class=\"data row0 col3\" >Advance</td>\n",
       "                        <td id=\"T_1f7373f3_a9bd_11e9_94b2_e7bf19016fc9row0_col4\" class=\"data row0 col4\" >145000</td>\n",
       "                        <td id=\"T_1f7373f3_a9bd_11e9_94b2_e7bf19016fc9row0_col5\" class=\"data row0 col5\" >100.00%</td>\n",
       "            </tr>\n",
       "            <tr>\n",
       "                        <th id=\"T_1f7373f3_a9bd_11e9_94b2_e7bf19016fc9level0_row1\" class=\"row_heading level0 row1\" >1</th>\n",
       "                        <td id=\"T_1f7373f3_a9bd_11e9_94b2_e7bf19016fc9row1_col0\" class=\"data row1 col0\" >33.2</td>\n",
       "                        <td id=\"T_1f7373f3_a9bd_11e9_94b2_e7bf19016fc9row1_col1\" class=\"data row1 col1\" >54.9</td>\n",
       "                        <td id=\"T_1f7373f3_a9bd_11e9_94b2_e7bf19016fc9row1_col2\" class=\"data row1 col2\" >Dorogobouge</td>\n",
       "                        <td id=\"T_1f7373f3_a9bd_11e9_94b2_e7bf19016fc9row1_col3\" class=\"data row1 col3\" >Advance</td>\n",
       "                        <td id=\"T_1f7373f3_a9bd_11e9_94b2_e7bf19016fc9row1_col4\" class=\"data row1 col4\" >140000</td>\n",
       "                        <td id=\"T_1f7373f3_a9bd_11e9_94b2_e7bf19016fc9row1_col5\" class=\"data row1 col5\" >96.55%</td>\n",
       "            </tr>\n",
       "            <tr>\n",
       "                        <th id=\"T_1f7373f3_a9bd_11e9_94b2_e7bf19016fc9level0_row2\" class=\"row_heading level0 row2\" >2</th>\n",
       "                        <td id=\"T_1f7373f3_a9bd_11e9_94b2_e7bf19016fc9row2_col0\" class=\"data row2 col0\" >34.4</td>\n",
       "                        <td id=\"T_1f7373f3_a9bd_11e9_94b2_e7bf19016fc9row2_col1\" class=\"data row2 col1\" >55.5</td>\n",
       "                        <td id=\"T_1f7373f3_a9bd_11e9_94b2_e7bf19016fc9row2_col2\" class=\"data row2 col2\" >Chjat</td>\n",
       "                        <td id=\"T_1f7373f3_a9bd_11e9_94b2_e7bf19016fc9row2_col3\" class=\"data row2 col3\" >Advance</td>\n",
       "                        <td id=\"T_1f7373f3_a9bd_11e9_94b2_e7bf19016fc9row2_col4\" class=\"data row2 col4\" >127100</td>\n",
       "                        <td id=\"T_1f7373f3_a9bd_11e9_94b2_e7bf19016fc9row2_col5\" class=\"data row2 col5\" >87.66%</td>\n",
       "            </tr>\n",
       "            <tr>\n",
       "                        <th id=\"T_1f7373f3_a9bd_11e9_94b2_e7bf19016fc9level0_row3\" class=\"row_heading level0 row3\" >3</th>\n",
       "                        <td id=\"T_1f7373f3_a9bd_11e9_94b2_e7bf19016fc9row3_col0\" class=\"data row3 col0\" >37.6</td>\n",
       "                        <td id=\"T_1f7373f3_a9bd_11e9_94b2_e7bf19016fc9row3_col1\" class=\"data row3 col1\" >55.8</td>\n",
       "                        <td id=\"T_1f7373f3_a9bd_11e9_94b2_e7bf19016fc9row3_col2\" class=\"data row3 col2\" >Moscou</td>\n",
       "                        <td id=\"T_1f7373f3_a9bd_11e9_94b2_e7bf19016fc9row3_col3\" class=\"data row3 col3\" >Advance</td>\n",
       "                        <td id=\"T_1f7373f3_a9bd_11e9_94b2_e7bf19016fc9row3_col4\" class=\"data row3 col4\" >100000</td>\n",
       "                        <td id=\"T_1f7373f3_a9bd_11e9_94b2_e7bf19016fc9row3_col5\" class=\"data row3 col5\" >68.97%</td>\n",
       "            </tr>\n",
       "            <tr>\n",
       "                        <th id=\"T_1f7373f3_a9bd_11e9_94b2_e7bf19016fc9level0_row4\" class=\"row_heading level0 row4\" >4</th>\n",
       "                        <td id=\"T_1f7373f3_a9bd_11e9_94b2_e7bf19016fc9row4_col0\" class=\"data row4 col0\" >34.3</td>\n",
       "                        <td id=\"T_1f7373f3_a9bd_11e9_94b2_e7bf19016fc9row4_col1\" class=\"data row4 col1\" >55.2</td>\n",
       "                        <td id=\"T_1f7373f3_a9bd_11e9_94b2_e7bf19016fc9row4_col2\" class=\"data row4 col2\" >Wixma</td>\n",
       "                        <td id=\"T_1f7373f3_a9bd_11e9_94b2_e7bf19016fc9row4_col3\" class=\"data row4 col3\" >Retreat</td>\n",
       "                        <td id=\"T_1f7373f3_a9bd_11e9_94b2_e7bf19016fc9row4_col4\" class=\"data row4 col4\" >55000</td>\n",
       "                        <td id=\"T_1f7373f3_a9bd_11e9_94b2_e7bf19016fc9row4_col5\" class=\"data row4 col5\" >37.93%</td>\n",
       "            </tr>\n",
       "            <tr>\n",
       "                        <th id=\"T_1f7373f3_a9bd_11e9_94b2_e7bf19016fc9level0_row5\" class=\"row_heading level0 row5\" >5</th>\n",
       "                        <td id=\"T_1f7373f3_a9bd_11e9_94b2_e7bf19016fc9row5_col0\" class=\"data row5 col0\" >32</td>\n",
       "                        <td id=\"T_1f7373f3_a9bd_11e9_94b2_e7bf19016fc9row5_col1\" class=\"data row5 col1\" >54.6</td>\n",
       "                        <td id=\"T_1f7373f3_a9bd_11e9_94b2_e7bf19016fc9row5_col2\" class=\"data row5 col2\" >Smolensk</td>\n",
       "                        <td id=\"T_1f7373f3_a9bd_11e9_94b2_e7bf19016fc9row5_col3\" class=\"data row5 col3\" >Retreat</td>\n",
       "                        <td id=\"T_1f7373f3_a9bd_11e9_94b2_e7bf19016fc9row5_col4\" class=\"data row5 col4\" >24000</td>\n",
       "                        <td id=\"T_1f7373f3_a9bd_11e9_94b2_e7bf19016fc9row5_col5\" class=\"data row5 col5\" >16.55%</td>\n",
       "            </tr>\n",
       "            <tr>\n",
       "                        <th id=\"T_1f7373f3_a9bd_11e9_94b2_e7bf19016fc9level0_row6\" class=\"row_heading level0 row6\" >6</th>\n",
       "                        <td id=\"T_1f7373f3_a9bd_11e9_94b2_e7bf19016fc9row6_col0\" class=\"data row6 col0\" >30.4</td>\n",
       "                        <td id=\"T_1f7373f3_a9bd_11e9_94b2_e7bf19016fc9row6_col1\" class=\"data row6 col1\" >54.4</td>\n",
       "                        <td id=\"T_1f7373f3_a9bd_11e9_94b2_e7bf19016fc9row6_col2\" class=\"data row6 col2\" >Orscha</td>\n",
       "                        <td id=\"T_1f7373f3_a9bd_11e9_94b2_e7bf19016fc9row6_col3\" class=\"data row6 col3\" >Retreat</td>\n",
       "                        <td id=\"T_1f7373f3_a9bd_11e9_94b2_e7bf19016fc9row6_col4\" class=\"data row6 col4\" >20000</td>\n",
       "                        <td id=\"T_1f7373f3_a9bd_11e9_94b2_e7bf19016fc9row6_col5\" class=\"data row6 col5\" >13.79%</td>\n",
       "            </tr>\n",
       "            <tr>\n",
       "                        <th id=\"T_1f7373f3_a9bd_11e9_94b2_e7bf19016fc9level0_row7\" class=\"row_heading level0 row7\" >7</th>\n",
       "                        <td id=\"T_1f7373f3_a9bd_11e9_94b2_e7bf19016fc9row7_col0\" class=\"data row7 col0\" >26.8</td>\n",
       "                        <td id=\"T_1f7373f3_a9bd_11e9_94b2_e7bf19016fc9row7_col1\" class=\"data row7 col1\" >54.3</td>\n",
       "                        <td id=\"T_1f7373f3_a9bd_11e9_94b2_e7bf19016fc9row7_col2\" class=\"data row7 col2\" >Moiodexno</td>\n",
       "                        <td id=\"T_1f7373f3_a9bd_11e9_94b2_e7bf19016fc9row7_col3\" class=\"data row7 col3\" >Retreat</td>\n",
       "                        <td id=\"T_1f7373f3_a9bd_11e9_94b2_e7bf19016fc9row7_col4\" class=\"data row7 col4\" >12000</td>\n",
       "                        <td id=\"T_1f7373f3_a9bd_11e9_94b2_e7bf19016fc9row7_col5\" class=\"data row7 col5\" >8.28%</td>\n",
       "            </tr>\n",
       "    </tbody></table>"
      ],
      "text/plain": [
       "<pandas.io.formats.style.Styler at 0x7f88d627a860>"
      ]
     },
     "execution_count": 22,
     "metadata": {},
     "output_type": "execute_result"
    }
   ],
   "source": [
    "minard_format = {\n",
    "    'Percent Surviving': \"{:.2%}\",\n",
    "}\n",
    "\n",
    "minard.style.format(minard_format)"
   ]
  },
  {
   "cell_type": "markdown",
   "metadata": {},
   "source": [
    "### Choosing Sets of Columns ###\n",
    "\n",
    "The property `loc` may be used to create a new DataFrame that contains only the specified columns."
   ]
  },
  {
   "cell_type": "code",
   "execution_count": 23,
   "metadata": {},
   "outputs": [
    {
     "data": {
      "text/html": [
       "<div>\n",
       "<style scoped>\n",
       "    .dataframe tbody tr th:only-of-type {\n",
       "        vertical-align: middle;\n",
       "    }\n",
       "\n",
       "    .dataframe tbody tr th {\n",
       "        vertical-align: top;\n",
       "    }\n",
       "\n",
       "    .dataframe thead th {\n",
       "        text-align: right;\n",
       "    }\n",
       "</style>\n",
       "<table border=\"1\" class=\"dataframe\">\n",
       "  <thead>\n",
       "    <tr style=\"text-align: right;\">\n",
       "      <th></th>\n",
       "      <th>Longitude</th>\n",
       "      <th>Latitude</th>\n",
       "    </tr>\n",
       "  </thead>\n",
       "  <tbody>\n",
       "    <tr>\n",
       "      <th>0</th>\n",
       "      <td>32.0</td>\n",
       "      <td>54.8</td>\n",
       "    </tr>\n",
       "    <tr>\n",
       "      <th>1</th>\n",
       "      <td>33.2</td>\n",
       "      <td>54.9</td>\n",
       "    </tr>\n",
       "    <tr>\n",
       "      <th>2</th>\n",
       "      <td>34.4</td>\n",
       "      <td>55.5</td>\n",
       "    </tr>\n",
       "    <tr>\n",
       "      <th>3</th>\n",
       "      <td>37.6</td>\n",
       "      <td>55.8</td>\n",
       "    </tr>\n",
       "    <tr>\n",
       "      <th>4</th>\n",
       "      <td>34.3</td>\n",
       "      <td>55.2</td>\n",
       "    </tr>\n",
       "    <tr>\n",
       "      <th>5</th>\n",
       "      <td>32.0</td>\n",
       "      <td>54.6</td>\n",
       "    </tr>\n",
       "    <tr>\n",
       "      <th>6</th>\n",
       "      <td>30.4</td>\n",
       "      <td>54.4</td>\n",
       "    </tr>\n",
       "    <tr>\n",
       "      <th>7</th>\n",
       "      <td>26.8</td>\n",
       "      <td>54.3</td>\n",
       "    </tr>\n",
       "  </tbody>\n",
       "</table>\n",
       "</div>"
      ],
      "text/plain": [
       "   Longitude  Latitude\n",
       "0       32.0      54.8\n",
       "1       33.2      54.9\n",
       "2       34.4      55.5\n",
       "3       37.6      55.8\n",
       "4       34.3      55.2\n",
       "5       32.0      54.6\n",
       "6       30.4      54.4\n",
       "7       26.8      54.3"
      ]
     },
     "execution_count": 23,
     "metadata": {},
     "output_type": "execute_result"
    }
   ],
   "source": [
    "minard.loc[:, ['Longitude', 'Latitude']]"
   ]
  },
  {
   "cell_type": "markdown",
   "metadata": {},
   "source": [
    "The same selection can be made directly against the DataFrame."
   ]
  },
  {
   "cell_type": "code",
   "execution_count": 24,
   "metadata": {},
   "outputs": [
    {
     "data": {
      "text/html": [
       "<div>\n",
       "<style scoped>\n",
       "    .dataframe tbody tr th:only-of-type {\n",
       "        vertical-align: middle;\n",
       "    }\n",
       "\n",
       "    .dataframe tbody tr th {\n",
       "        vertical-align: top;\n",
       "    }\n",
       "\n",
       "    .dataframe thead th {\n",
       "        text-align: right;\n",
       "    }\n",
       "</style>\n",
       "<table border=\"1\" class=\"dataframe\">\n",
       "  <thead>\n",
       "    <tr style=\"text-align: right;\">\n",
       "      <th></th>\n",
       "      <th>Longitude</th>\n",
       "      <th>Latitude</th>\n",
       "    </tr>\n",
       "  </thead>\n",
       "  <tbody>\n",
       "    <tr>\n",
       "      <th>0</th>\n",
       "      <td>32.0</td>\n",
       "      <td>54.8</td>\n",
       "    </tr>\n",
       "    <tr>\n",
       "      <th>1</th>\n",
       "      <td>33.2</td>\n",
       "      <td>54.9</td>\n",
       "    </tr>\n",
       "    <tr>\n",
       "      <th>2</th>\n",
       "      <td>34.4</td>\n",
       "      <td>55.5</td>\n",
       "    </tr>\n",
       "    <tr>\n",
       "      <th>3</th>\n",
       "      <td>37.6</td>\n",
       "      <td>55.8</td>\n",
       "    </tr>\n",
       "    <tr>\n",
       "      <th>4</th>\n",
       "      <td>34.3</td>\n",
       "      <td>55.2</td>\n",
       "    </tr>\n",
       "    <tr>\n",
       "      <th>5</th>\n",
       "      <td>32.0</td>\n",
       "      <td>54.6</td>\n",
       "    </tr>\n",
       "    <tr>\n",
       "      <th>6</th>\n",
       "      <td>30.4</td>\n",
       "      <td>54.4</td>\n",
       "    </tr>\n",
       "    <tr>\n",
       "      <th>7</th>\n",
       "      <td>26.8</td>\n",
       "      <td>54.3</td>\n",
       "    </tr>\n",
       "  </tbody>\n",
       "</table>\n",
       "</div>"
      ],
      "text/plain": [
       "   Longitude  Latitude\n",
       "0       32.0      54.8\n",
       "1       33.2      54.9\n",
       "2       34.4      55.5\n",
       "3       37.6      55.8\n",
       "4       34.3      55.2\n",
       "5       32.0      54.6\n",
       "6       30.4      54.4\n",
       "7       26.8      54.3"
      ]
     },
     "execution_count": 24,
     "metadata": {},
     "output_type": "execute_result"
    }
   ],
   "source": [
    "minard[['Longitude', 'Latitude']]"
   ]
  },
  {
   "cell_type": "markdown",
   "metadata": {},
   "source": [
    "The result of this syntax is a new DataFrame, even when you name just one column."
   ]
  },
  {
   "cell_type": "code",
   "execution_count": 25,
   "metadata": {},
   "outputs": [
    {
     "data": {
      "text/html": [
       "<div>\n",
       "<style scoped>\n",
       "    .dataframe tbody tr th:only-of-type {\n",
       "        vertical-align: middle;\n",
       "    }\n",
       "\n",
       "    .dataframe tbody tr th {\n",
       "        vertical-align: top;\n",
       "    }\n",
       "\n",
       "    .dataframe thead th {\n",
       "        text-align: right;\n",
       "    }\n",
       "</style>\n",
       "<table border=\"1\" class=\"dataframe\">\n",
       "  <thead>\n",
       "    <tr style=\"text-align: right;\">\n",
       "      <th></th>\n",
       "      <th>Survivors</th>\n",
       "    </tr>\n",
       "  </thead>\n",
       "  <tbody>\n",
       "    <tr>\n",
       "      <th>0</th>\n",
       "      <td>145000</td>\n",
       "    </tr>\n",
       "    <tr>\n",
       "      <th>1</th>\n",
       "      <td>140000</td>\n",
       "    </tr>\n",
       "    <tr>\n",
       "      <th>2</th>\n",
       "      <td>127100</td>\n",
       "    </tr>\n",
       "    <tr>\n",
       "      <th>3</th>\n",
       "      <td>100000</td>\n",
       "    </tr>\n",
       "    <tr>\n",
       "      <th>4</th>\n",
       "      <td>55000</td>\n",
       "    </tr>\n",
       "    <tr>\n",
       "      <th>5</th>\n",
       "      <td>24000</td>\n",
       "    </tr>\n",
       "    <tr>\n",
       "      <th>6</th>\n",
       "      <td>20000</td>\n",
       "    </tr>\n",
       "    <tr>\n",
       "      <th>7</th>\n",
       "      <td>12000</td>\n",
       "    </tr>\n",
       "  </tbody>\n",
       "</table>\n",
       "</div>"
      ],
      "text/plain": [
       "   Survivors\n",
       "0     145000\n",
       "1     140000\n",
       "2     127100\n",
       "3     100000\n",
       "4      55000\n",
       "5      24000\n",
       "6      20000\n",
       "7      12000"
      ]
     },
     "execution_count": 25,
     "metadata": {},
     "output_type": "execute_result"
    }
   ],
   "source": [
    "minard[['Survivors']]"
   ]
  },
  {
   "cell_type": "markdown",
   "metadata": {},
   "source": [
    "Notice that the result is a DataFrame, unlike when we used only a single pair of brackets, which returns the underlying Series."
   ]
  },
  {
   "cell_type": "code",
   "execution_count": 26,
   "metadata": {},
   "outputs": [
    {
     "data": {
      "text/plain": [
       "0    145000\n",
       "1    140000\n",
       "2    127100\n",
       "3    100000\n",
       "4     55000\n",
       "5     24000\n",
       "6     20000\n",
       "7     12000\n",
       "Name: Survivors, dtype: int64"
      ]
     },
     "execution_count": 26,
     "metadata": {},
     "output_type": "execute_result"
    }
   ],
   "source": [
    "minard['Survivors']"
   ]
  },
  {
   "cell_type": "markdown",
   "metadata": {},
   "source": [
    "Another way to create a new DataFrame consisting of a set of columns is to `drop` the columns you don't want."
   ]
  },
  {
   "cell_type": "code",
   "execution_count": 27,
   "metadata": {},
   "outputs": [
    {
     "data": {
      "text/html": [
       "<div>\n",
       "<style scoped>\n",
       "    .dataframe tbody tr th:only-of-type {\n",
       "        vertical-align: middle;\n",
       "    }\n",
       "\n",
       "    .dataframe tbody tr th {\n",
       "        vertical-align: top;\n",
       "    }\n",
       "\n",
       "    .dataframe thead th {\n",
       "        text-align: right;\n",
       "    }\n",
       "</style>\n",
       "<table border=\"1\" class=\"dataframe\">\n",
       "  <thead>\n",
       "    <tr style=\"text-align: right;\">\n",
       "      <th></th>\n",
       "      <th>City Name</th>\n",
       "      <th>Survivors</th>\n",
       "      <th>Percent Surviving</th>\n",
       "    </tr>\n",
       "  </thead>\n",
       "  <tbody>\n",
       "    <tr>\n",
       "      <th>0</th>\n",
       "      <td>Smolensk</td>\n",
       "      <td>145000</td>\n",
       "      <td>1.000000</td>\n",
       "    </tr>\n",
       "    <tr>\n",
       "      <th>1</th>\n",
       "      <td>Dorogobouge</td>\n",
       "      <td>140000</td>\n",
       "      <td>0.965517</td>\n",
       "    </tr>\n",
       "    <tr>\n",
       "      <th>2</th>\n",
       "      <td>Chjat</td>\n",
       "      <td>127100</td>\n",
       "      <td>0.876552</td>\n",
       "    </tr>\n",
       "    <tr>\n",
       "      <th>3</th>\n",
       "      <td>Moscou</td>\n",
       "      <td>100000</td>\n",
       "      <td>0.689655</td>\n",
       "    </tr>\n",
       "    <tr>\n",
       "      <th>4</th>\n",
       "      <td>Wixma</td>\n",
       "      <td>55000</td>\n",
       "      <td>0.379310</td>\n",
       "    </tr>\n",
       "    <tr>\n",
       "      <th>5</th>\n",
       "      <td>Smolensk</td>\n",
       "      <td>24000</td>\n",
       "      <td>0.165517</td>\n",
       "    </tr>\n",
       "    <tr>\n",
       "      <th>6</th>\n",
       "      <td>Orscha</td>\n",
       "      <td>20000</td>\n",
       "      <td>0.137931</td>\n",
       "    </tr>\n",
       "    <tr>\n",
       "      <th>7</th>\n",
       "      <td>Moiodexno</td>\n",
       "      <td>12000</td>\n",
       "      <td>0.082759</td>\n",
       "    </tr>\n",
       "  </tbody>\n",
       "</table>\n",
       "</div>"
      ],
      "text/plain": [
       "     City Name  Survivors  Percent Surviving\n",
       "0     Smolensk     145000           1.000000\n",
       "1  Dorogobouge     140000           0.965517\n",
       "2        Chjat     127100           0.876552\n",
       "3       Moscou     100000           0.689655\n",
       "4        Wixma      55000           0.379310\n",
       "5     Smolensk      24000           0.165517\n",
       "6       Orscha      20000           0.137931\n",
       "7    Moiodexno      12000           0.082759"
      ]
     },
     "execution_count": 27,
     "metadata": {},
     "output_type": "execute_result"
    }
   ],
   "source": [
    "minard.drop(columns=['Longitude', 'Latitude', 'Direction'])"
   ]
  },
  {
   "cell_type": "markdown",
   "metadata": {},
   "source": [
    "Neither column selection nor the `drop` method change the original DataFrame. Instead, they create new smaller DataFrames that share the same data. The fact that the original DataFrame is preserved is useful! You can generate multiple different DataFrames that only consider certain columns without worrying that one analysis will affect the other."
   ]
  },
  {
   "cell_type": "code",
   "execution_count": 28,
   "metadata": {},
   "outputs": [
    {
     "data": {
      "text/html": [
       "<style  type=\"text/css\" >\n",
       "</style><table id=\"T_1f7373f4_a9bd_11e9_94b2_e7bf19016fc9\" ><thead>    <tr>        <th class=\"blank level0\" ></th>        <th class=\"col_heading level0 col0\" >Longitude</th>        <th class=\"col_heading level0 col1\" >Latitude</th>        <th class=\"col_heading level0 col2\" >City Name</th>        <th class=\"col_heading level0 col3\" >Direction</th>        <th class=\"col_heading level0 col4\" >Survivors</th>        <th class=\"col_heading level0 col5\" >Percent Surviving</th>    </tr></thead><tbody>\n",
       "                <tr>\n",
       "                        <th id=\"T_1f7373f4_a9bd_11e9_94b2_e7bf19016fc9level0_row0\" class=\"row_heading level0 row0\" >0</th>\n",
       "                        <td id=\"T_1f7373f4_a9bd_11e9_94b2_e7bf19016fc9row0_col0\" class=\"data row0 col0\" >32</td>\n",
       "                        <td id=\"T_1f7373f4_a9bd_11e9_94b2_e7bf19016fc9row0_col1\" class=\"data row0 col1\" >54.8</td>\n",
       "                        <td id=\"T_1f7373f4_a9bd_11e9_94b2_e7bf19016fc9row0_col2\" class=\"data row0 col2\" >Smolensk</td>\n",
       "                        <td id=\"T_1f7373f4_a9bd_11e9_94b2_e7bf19016fc9row0_col3\" class=\"data row0 col3\" >Advance</td>\n",
       "                        <td id=\"T_1f7373f4_a9bd_11e9_94b2_e7bf19016fc9row0_col4\" class=\"data row0 col4\" >145000</td>\n",
       "                        <td id=\"T_1f7373f4_a9bd_11e9_94b2_e7bf19016fc9row0_col5\" class=\"data row0 col5\" >100.00%</td>\n",
       "            </tr>\n",
       "            <tr>\n",
       "                        <th id=\"T_1f7373f4_a9bd_11e9_94b2_e7bf19016fc9level0_row1\" class=\"row_heading level0 row1\" >1</th>\n",
       "                        <td id=\"T_1f7373f4_a9bd_11e9_94b2_e7bf19016fc9row1_col0\" class=\"data row1 col0\" >33.2</td>\n",
       "                        <td id=\"T_1f7373f4_a9bd_11e9_94b2_e7bf19016fc9row1_col1\" class=\"data row1 col1\" >54.9</td>\n",
       "                        <td id=\"T_1f7373f4_a9bd_11e9_94b2_e7bf19016fc9row1_col2\" class=\"data row1 col2\" >Dorogobouge</td>\n",
       "                        <td id=\"T_1f7373f4_a9bd_11e9_94b2_e7bf19016fc9row1_col3\" class=\"data row1 col3\" >Advance</td>\n",
       "                        <td id=\"T_1f7373f4_a9bd_11e9_94b2_e7bf19016fc9row1_col4\" class=\"data row1 col4\" >140000</td>\n",
       "                        <td id=\"T_1f7373f4_a9bd_11e9_94b2_e7bf19016fc9row1_col5\" class=\"data row1 col5\" >96.55%</td>\n",
       "            </tr>\n",
       "            <tr>\n",
       "                        <th id=\"T_1f7373f4_a9bd_11e9_94b2_e7bf19016fc9level0_row2\" class=\"row_heading level0 row2\" >2</th>\n",
       "                        <td id=\"T_1f7373f4_a9bd_11e9_94b2_e7bf19016fc9row2_col0\" class=\"data row2 col0\" >34.4</td>\n",
       "                        <td id=\"T_1f7373f4_a9bd_11e9_94b2_e7bf19016fc9row2_col1\" class=\"data row2 col1\" >55.5</td>\n",
       "                        <td id=\"T_1f7373f4_a9bd_11e9_94b2_e7bf19016fc9row2_col2\" class=\"data row2 col2\" >Chjat</td>\n",
       "                        <td id=\"T_1f7373f4_a9bd_11e9_94b2_e7bf19016fc9row2_col3\" class=\"data row2 col3\" >Advance</td>\n",
       "                        <td id=\"T_1f7373f4_a9bd_11e9_94b2_e7bf19016fc9row2_col4\" class=\"data row2 col4\" >127100</td>\n",
       "                        <td id=\"T_1f7373f4_a9bd_11e9_94b2_e7bf19016fc9row2_col5\" class=\"data row2 col5\" >87.66%</td>\n",
       "            </tr>\n",
       "            <tr>\n",
       "                        <th id=\"T_1f7373f4_a9bd_11e9_94b2_e7bf19016fc9level0_row3\" class=\"row_heading level0 row3\" >3</th>\n",
       "                        <td id=\"T_1f7373f4_a9bd_11e9_94b2_e7bf19016fc9row3_col0\" class=\"data row3 col0\" >37.6</td>\n",
       "                        <td id=\"T_1f7373f4_a9bd_11e9_94b2_e7bf19016fc9row3_col1\" class=\"data row3 col1\" >55.8</td>\n",
       "                        <td id=\"T_1f7373f4_a9bd_11e9_94b2_e7bf19016fc9row3_col2\" class=\"data row3 col2\" >Moscou</td>\n",
       "                        <td id=\"T_1f7373f4_a9bd_11e9_94b2_e7bf19016fc9row3_col3\" class=\"data row3 col3\" >Advance</td>\n",
       "                        <td id=\"T_1f7373f4_a9bd_11e9_94b2_e7bf19016fc9row3_col4\" class=\"data row3 col4\" >100000</td>\n",
       "                        <td id=\"T_1f7373f4_a9bd_11e9_94b2_e7bf19016fc9row3_col5\" class=\"data row3 col5\" >68.97%</td>\n",
       "            </tr>\n",
       "            <tr>\n",
       "                        <th id=\"T_1f7373f4_a9bd_11e9_94b2_e7bf19016fc9level0_row4\" class=\"row_heading level0 row4\" >4</th>\n",
       "                        <td id=\"T_1f7373f4_a9bd_11e9_94b2_e7bf19016fc9row4_col0\" class=\"data row4 col0\" >34.3</td>\n",
       "                        <td id=\"T_1f7373f4_a9bd_11e9_94b2_e7bf19016fc9row4_col1\" class=\"data row4 col1\" >55.2</td>\n",
       "                        <td id=\"T_1f7373f4_a9bd_11e9_94b2_e7bf19016fc9row4_col2\" class=\"data row4 col2\" >Wixma</td>\n",
       "                        <td id=\"T_1f7373f4_a9bd_11e9_94b2_e7bf19016fc9row4_col3\" class=\"data row4 col3\" >Retreat</td>\n",
       "                        <td id=\"T_1f7373f4_a9bd_11e9_94b2_e7bf19016fc9row4_col4\" class=\"data row4 col4\" >55000</td>\n",
       "                        <td id=\"T_1f7373f4_a9bd_11e9_94b2_e7bf19016fc9row4_col5\" class=\"data row4 col5\" >37.93%</td>\n",
       "            </tr>\n",
       "            <tr>\n",
       "                        <th id=\"T_1f7373f4_a9bd_11e9_94b2_e7bf19016fc9level0_row5\" class=\"row_heading level0 row5\" >5</th>\n",
       "                        <td id=\"T_1f7373f4_a9bd_11e9_94b2_e7bf19016fc9row5_col0\" class=\"data row5 col0\" >32</td>\n",
       "                        <td id=\"T_1f7373f4_a9bd_11e9_94b2_e7bf19016fc9row5_col1\" class=\"data row5 col1\" >54.6</td>\n",
       "                        <td id=\"T_1f7373f4_a9bd_11e9_94b2_e7bf19016fc9row5_col2\" class=\"data row5 col2\" >Smolensk</td>\n",
       "                        <td id=\"T_1f7373f4_a9bd_11e9_94b2_e7bf19016fc9row5_col3\" class=\"data row5 col3\" >Retreat</td>\n",
       "                        <td id=\"T_1f7373f4_a9bd_11e9_94b2_e7bf19016fc9row5_col4\" class=\"data row5 col4\" >24000</td>\n",
       "                        <td id=\"T_1f7373f4_a9bd_11e9_94b2_e7bf19016fc9row5_col5\" class=\"data row5 col5\" >16.55%</td>\n",
       "            </tr>\n",
       "            <tr>\n",
       "                        <th id=\"T_1f7373f4_a9bd_11e9_94b2_e7bf19016fc9level0_row6\" class=\"row_heading level0 row6\" >6</th>\n",
       "                        <td id=\"T_1f7373f4_a9bd_11e9_94b2_e7bf19016fc9row6_col0\" class=\"data row6 col0\" >30.4</td>\n",
       "                        <td id=\"T_1f7373f4_a9bd_11e9_94b2_e7bf19016fc9row6_col1\" class=\"data row6 col1\" >54.4</td>\n",
       "                        <td id=\"T_1f7373f4_a9bd_11e9_94b2_e7bf19016fc9row6_col2\" class=\"data row6 col2\" >Orscha</td>\n",
       "                        <td id=\"T_1f7373f4_a9bd_11e9_94b2_e7bf19016fc9row6_col3\" class=\"data row6 col3\" >Retreat</td>\n",
       "                        <td id=\"T_1f7373f4_a9bd_11e9_94b2_e7bf19016fc9row6_col4\" class=\"data row6 col4\" >20000</td>\n",
       "                        <td id=\"T_1f7373f4_a9bd_11e9_94b2_e7bf19016fc9row6_col5\" class=\"data row6 col5\" >13.79%</td>\n",
       "            </tr>\n",
       "            <tr>\n",
       "                        <th id=\"T_1f7373f4_a9bd_11e9_94b2_e7bf19016fc9level0_row7\" class=\"row_heading level0 row7\" >7</th>\n",
       "                        <td id=\"T_1f7373f4_a9bd_11e9_94b2_e7bf19016fc9row7_col0\" class=\"data row7 col0\" >26.8</td>\n",
       "                        <td id=\"T_1f7373f4_a9bd_11e9_94b2_e7bf19016fc9row7_col1\" class=\"data row7 col1\" >54.3</td>\n",
       "                        <td id=\"T_1f7373f4_a9bd_11e9_94b2_e7bf19016fc9row7_col2\" class=\"data row7 col2\" >Moiodexno</td>\n",
       "                        <td id=\"T_1f7373f4_a9bd_11e9_94b2_e7bf19016fc9row7_col3\" class=\"data row7 col3\" >Retreat</td>\n",
       "                        <td id=\"T_1f7373f4_a9bd_11e9_94b2_e7bf19016fc9row7_col4\" class=\"data row7 col4\" >12000</td>\n",
       "                        <td id=\"T_1f7373f4_a9bd_11e9_94b2_e7bf19016fc9row7_col5\" class=\"data row7 col5\" >8.28%</td>\n",
       "            </tr>\n",
       "    </tbody></table>"
      ],
      "text/plain": [
       "<pandas.io.formats.style.Styler at 0x7f88d5fc5898>"
      ]
     },
     "execution_count": 28,
     "metadata": {},
     "output_type": "execute_result"
    }
   ],
   "source": [
    "minard.style.format(minard_format)"
   ]
  },
  {
   "cell_type": "markdown",
   "metadata": {},
   "source": [
    "All of the methods that we have used above can be applied to any DataFrame."
   ]
  }
 ],
 "metadata": {
  "anaconda-cloud": {},
  "celltoolbar": "Tags",
  "kernelspec": {
   "display_name": "Python 3",
   "language": "python",
   "name": "python3"
  },
  "language_info": {
   "codemirror_mode": {
    "name": "ipython",
    "version": 3
   },
   "file_extension": ".py",
   "mimetype": "text/x-python",
   "name": "python",
   "nbconvert_exporter": "python",
   "pygments_lexer": "ipython3",
   "version": "3.6.6"
  }
 },
 "nbformat": 4,
 "nbformat_minor": 2
}
